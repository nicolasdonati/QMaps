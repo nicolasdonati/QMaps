{
 "cells": [
  {
   "cell_type": "code",
   "execution_count": 1,
   "id": "medium-carbon",
   "metadata": {},
   "outputs": [],
   "source": [
    "from Tools.utils import *"
   ]
  },
  {
   "cell_type": "code",
   "execution_count": 5,
   "id": "champion-catalyst",
   "metadata": {},
   "outputs": [],
   "source": [
    "### load shapes\n",
    "\n",
    "# shapes number (you can choose)\n",
    "i1 = 2\n",
    "i2 = 7\n",
    "\n",
    "###\n",
    "datafolder = 'data/FAUST_r'\n",
    "vts_folder = 'cor'\n",
    "filename = 'tr_reg_{:03d}.off'\n",
    "###\n",
    "filename1 = join(datafolder, filename.format(i1))\n",
    "filename2 = join(datafolder, filename.format(i2))\n",
    "\n",
    "\n",
    "## load (and save) spectral data\n",
    "k = 100\n",
    "# compute real and complex eigenvectors\n",
    "X = mesh(filename1, spectral=k)\n",
    "Y = mesh(filename2, spectral=k)\n",
    "X.complex_spectral(k=k)\n",
    "Y.complex_spectral(k=k)\n",
    "# get vts (for correspondence)\n",
    "X.get_vts()\n",
    "Y.get_vts()\n",
    "\n",
    "\n",
    "# gradient operators\n",
    "X.gradv = X.grad_vert_op()\n",
    "Y.gradv = Y.grad_vert_op()"
   ]
  },
  {
   "cell_type": "code",
   "execution_count": 6,
   "id": "american-oxygen",
   "metadata": {},
   "outputs": [
    {
     "data": {
      "text/plain": [
       "<matplotlib.image.AxesImage at 0x7fdf55e5e040>"
      ]
     },
     "execution_count": 6,
     "metadata": {},
     "output_type": "execute_result"
    },
    {
     "data": {
      "image/png": "[encoded data removed]",
      "text/plain": [
       "<Figure size 432x288 with 2 Axes>"
      ]
     },
     "metadata": {
      "needs_background": "light"
     },
     "output_type": "display_data"
    }
   ],
   "source": [
    "# compute ground-truth fmap and get complex fmap\n",
    "\n",
    "kgt = 50\n",
    "kgtQ = 50\n",
    "C12_gt = np.linalg.pinv(Y.eig[Y.vts,:kgt]) @ X.eig[X.vts, :kgt]\n",
    "Q12_gt = CMap2QMap_procrustes(X,Y,C12_gt,kgtQ)\n",
    "T12_gt = fMap2pMap(Y.eig, X.eig, C12_gt.T)\n",
    "\n",
    "plt.subplot(121)\n",
    "plt.imshow(C12_gt)\n",
    "plt.subplot(122)\n",
    "plt.imshow(np.abs(Q12_gt))"
   ]
  },
  {
   "cell_type": "code",
   "execution_count": 19,
   "id": "juvenile-eight",
   "metadata": {},
   "outputs": [
    {
     "data": {
      "application/vnd.jupyter.widget-view+json": {
       "model_id": "2c21cda2ddb5418a89b2db9a554e5c4d",
       "version_major": 2,
       "version_minor": 0
      },
      "text/plain": [
       "Renderer(camera=PerspectiveCamera(children=(DirectionalLight(color='white', intensity=0.6, position=(0.0061127…"
      ]
     },
     "metadata": {},
     "output_type": "display_data"
    },
    {
     "data": {
      "application/vnd.jupyter.widget-view+json": {
       "model_id": "ba3a3b59f18f472198c058a8d25818ac",
       "version_major": 2,
       "version_minor": 0
      },
      "text/plain": [
       "Renderer(camera=PerspectiveCamera(children=(DirectionalLight(color='white', intensity=0.6, position=(-0.006295…"
      ]
     },
     "metadata": {},
     "output_type": "display_data"
    },
    {
     "data": {
      "text/plain": [
       "1"
      ]
     },
     "execution_count": 19,
     "metadata": {},
     "output_type": "execute_result"
    }
   ],
   "source": [
    "# vfx is the (low-frequency) vector field on X\n",
    "# it is transfered on Y as vfy using the complex functional map Q12_gt\n",
    "\n",
    "kQ = 30\n",
    "it = 10  # number of complex eigenvector\n",
    "# vfx = X.ceig[:,it]  # here we choose the i-th eigenvector of the connection Laplacian\n",
    "# one can also choose to transfer low spectral projections of any vector field\n",
    "# such as a gradient for instance (here y-coordinate gradient)\n",
    "vfx =  X.ceig[:,:kQ] @ np.linalg.pinv(X.ceig[:,:kQ]) @ X.grad_vert(X.v[:,1])\n",
    "\n",
    "vfy = Y.ceig[:,:kQ] @ Q12_gt[:kQ,:kQ] @ np.linalg.pinv(X.ceig[:,:kQ]) @ vfx\n",
    "\n",
    "q = mp.plot(X.v, X.f, np.abs(vfx), return_plot=True)\n",
    "q.add_lines(X.v, X.v + 0.01 * X.embed_vector_field(vfx),\n",
    "                shading={\"line_color\": \"white\"})\n",
    "\n",
    "\n",
    "t = mp.plot(Y.v, Y.f, np.abs(vfy), return_plot=True)\n",
    "t.add_lines(Y.v, Y.v + 0.01 * Y.embed_vector_field(vfy),\n",
    "                shading={\"line_color\": \"white\"})"
   ]
  }
 ],
 "metadata": {
  "kernelspec": {
   "display_name": "Python 3",
   "language": "python",
   "name": "python3"
  },
  "language_info": {
   "codemirror_mode": {
    "name": "ipython",
    "version": 3
   },
   "file_extension": ".py",
   "mimetype": "text/x-python",
   "name": "python",
   "nbconvert_exporter": "python",
   "pygments_lexer": "ipython3",
   "version": "3.8.8"
  }
 },
 "nbformat": 4,
 "nbformat_minor": 5
}
