{
 "cells": [
  {
   "cell_type": "code",
   "execution_count": 1,
   "id": "crazy-magic",
   "metadata": {},
   "outputs": [],
   "source": [
    "from Tools.utils import *"
   ]
  },
  {
   "cell_type": "code",
   "execution_count": 9,
   "id": "irish-maximum",
   "metadata": {},
   "outputs": [
    {
     "name": "stdout",
     "output_type": "stream",
     "text": [
      "area was 2.6556472092097283\n",
      "area was 3.6356965316800607\n"
     ]
    }
   ],
   "source": [
    "### load shapes\n",
    "\n",
    "# choose the shapes (among [0,49])\n",
    "i1 = 4; i2 = 0;\n",
    "\n",
    "### PATHS\n",
    "datafolder = 'data/SMAL_r/'\n",
    "arr_files = np.loadtxt(join(datafolder,'mesh_names.txt'), dtype=np.str)\n",
    "\n",
    "filename1 = join(datafolder,arr_files[i1]+'.obj') #join(datafolder, filename.format(i1))\n",
    "filename2 = join(datafolder,arr_files[i2]+'.obj') #join(datafolder, filename.format(i2))\n",
    "###\n",
    "\n",
    "## load (or compute and save) spectral data\n",
    "k = 100\n",
    "\n",
    "# real eigenvectors\n",
    "X = mesh(filename1, spectral=k)\n",
    "Y = mesh(filename2, spectral=k)\n",
    "\n",
    "X.center_and_scale(scale=True)\n",
    "Y.center_and_scale(scale=True)\n",
    "X.v *= [1,-1,-1]  # for visualization\n",
    "Y.v *= [1,-1,-1]\n",
    "\n",
    "# ground-truth correspondence\n",
    "vts_folder = 'cor'\n",
    "X.get_vts(cor_folder=vts_folder); Y.get_vts(cor_folder=vts_folder)\n",
    "\n",
    "# complex eigenvectors\n",
    "X.complex_spectral(k=k)\n",
    "Y.complex_spectral(k=k)\n",
    "\n",
    "# for Q->p2p to get unoriented diracs\n",
    "# X.gpdir stores the unoriented Diracs one can choose to put oriented Diracs as it\n",
    "# sometimes yields better results\n",
    "X.gradv = X.grad_vert_op(); Y.gradv = Y.grad_vert_op();\n",
    "X.gpdir = X.div_c_vert_op()@X.ceig; Y.gpdir = Y.div_c_vert_op()@Y.ceig\n",
    "#X.gpdir = X.ceig; Y.gpdir = Y.ceig"
   ]
  },
  {
   "cell_type": "code",
   "execution_count": 10,
   "id": "significant-pittsburgh",
   "metadata": {},
   "outputs": [
    {
     "data": {
      "text/plain": [
       "<matplotlib.image.AxesImage at 0x7ff71d1d7e80>"
      ]
     },
     "execution_count": 10,
     "metadata": {},
     "output_type": "execute_result"
    },
    {
     "data": {
      "image/png": "[encoded data removed]",
      "text/plain": [
       "<Figure size 432x288 with 2 Axes>"
      ]
     },
     "metadata": {
      "needs_background": "light"
     },
     "output_type": "display_data"
    }
   ],
   "source": [
    "# compute ground-truth fmap and get complex fmap\n",
    "\n",
    "kgt = 50\n",
    "kgtQ = 50\n",
    "C12_gt = np.linalg.pinv(Y.eig[Y.vts,:kgt]) @ X.eig[X.vts, :kgt]\n",
    "Q12_gt = CMap2QMap_procrustes(X,Y,C12_gt,kgtQ)\n",
    "T12_gt = fMap2pMap(Y.eig, X.eig, C12_gt.T)\n",
    "\n",
    "plt.subplot(121)\n",
    "plt.imshow(C12_gt)\n",
    "plt.subplot(122)\n",
    "plt.imshow(np.abs(Q12_gt))"
   ]
  },
  {
   "cell_type": "code",
   "execution_count": 22,
   "id": "compound-protocol",
   "metadata": {},
   "outputs": [
    {
     "name": "stdout",
     "output_type": "stream",
     "text": [
      "step: 3\n",
      "step: 5\n",
      "step: 7\n",
      "step: 9\n",
      "step: 11\n",
      "step: 13\n",
      "step: 15\n",
      "step: 17\n",
      "step: 19\n",
      "euc err: 0.045943550798759905\n"
     ]
    },
    {
     "data": {
      "application/vnd.jupyter.widget-view+json": {
       "model_id": "e53e527732444479aaeb6740962caef1",
       "version_major": 2,
       "version_minor": 0
      },
      "text/plain": [
       "Renderer(camera=PerspectiveCamera(children=(DirectionalLight(color='white', intensity=0.6, position=(-0.011306…"
      ]
     },
     "metadata": {},
     "output_type": "display_data"
    }
   ],
   "source": [
    "k_init = 3  #3\n",
    "k_step = 2\n",
    "k_final = 20\n",
    "N_inter = 10\n",
    "\n",
    "# random initialization as in Discrete Optimisation (Ren et al., SGP 2021)\n",
    "# different runs for this cell will end up with different results\n",
    "T12_ini = initialize_pMap(X.v.shape[0], Y.v.shape[0])\n",
    "T21_ini = initialize_pMap(Y.v.shape[0], X.v.shape[0])\n",
    "#\n",
    "C21_ini = pMap2fMap(X.eig[:,:k_init], Y.eig[:,:k_init], T12_ini)\n",
    "C12_ini = pMap2fMap(Y.eig[:,:k_init], X.eig[:,:k_init], T21_ini)\n",
    "\n",
    "# one can choose to start with deterministic init, for instance reduced gt\n",
    "#C12_ini = C12_gt[:k_init,:k_init]\n",
    "#C21_ini = C12_ini.T\n",
    "#T12_ini = fMap2pMap(Y.eig, X.eig, C21_ini)\n",
    "\n",
    "# ************************ bijective zoomout **************************\n",
    "# (w1 and w2 for X->Y and Y->X energies)\n",
    "# (+ isometric discrete optimisation if w3>0)\n",
    "# (+ wQ=1/0 to use/not use our method)\n",
    "\n",
    "C12, C21 = func_bijective_zm_fmap(X, Y, C12_ini, C21_ini, k_init=k_init,\n",
    "                                  k_step=k_step, k_final=k_final, N_inter=N_inter,\n",
    "                                  wQ=1,\n",
    "                                  w1=1, w2=1, w3=1, verbose=0)\n",
    "\n",
    "# ************************ classic zoomout **************************\n",
    "# (+ wQ=1/0 to use/not use our method)\n",
    "# notice that standard zoomout produces worse maps in general\n",
    "\n",
    "# C21 = func_zm_fmap(X,Y,C21_ini,k_init=k_init, \n",
    "#                      k_step=k_step, k_final=k_final, N_inter=N_inter,\n",
    "#                      wQ=1)\n",
    "\n",
    "# convert to pmap\n",
    "T12 = fMap2pMap(Y.eig, X.eig, C21)\n",
    "\n",
    "# plot using meshplot\n",
    "show_p2p(X,Y,T12, withuv=0, T12_gt=T12_gt, axis_col=0)"
   ]
  }
 ],
 "metadata": {
  "kernelspec": {
   "display_name": "Python 3",
   "language": "python",
   "name": "python3"
  },
  "language_info": {
   "codemirror_mode": {
    "name": "ipython",
    "version": 3
   },
   "file_extension": ".py",
   "mimetype": "text/x-python",
   "name": "python",
   "nbconvert_exporter": "python",
   "pygments_lexer": "ipython3",
   "version": "3.8.8"
  }
 },
 "nbformat": 4,
 "nbformat_minor": 5
}
